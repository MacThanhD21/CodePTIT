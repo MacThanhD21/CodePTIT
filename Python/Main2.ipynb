{
 "cells": [
  {
   "cell_type": "code",
   "execution_count": 4,
   "metadata": {},
   "outputs": [
    {
     "name": "stdout",
     "output_type": "stream",
     "text": [
      "macvanthanh\n"
     ]
    }
   ],
   "source": [
    "s = \"mac Van Thanh\".lower()\n",
    "s = s.replace(\" \", \"\")\n",
    "\n",
    "print(s)"
   ]
  },
  {
   "cell_type": "code",
   "execution_count": 3,
   "metadata": {},
   "outputs": [
    {
     "name": "stdout",
     "output_type": "stream",
     "text": [
      "C0002\n"
     ]
    }
   ],
   "source": [
    "s = \"2\";\n",
    "s = \"C\" + s.zfill(4)\n",
    "print(s)"
   ]
  },
  {
   "cell_type": "code",
   "execution_count": 7,
   "metadata": {},
   "outputs": [
    {
     "name": "stdout",
     "output_type": "stream",
     "text": [
      "3526\n"
     ]
    }
   ],
   "source": [
    "a = 3526.225\n",
    "print(round(a)) "
   ]
  },
  {
   "cell_type": "code",
   "execution_count": 42,
   "metadata": {},
   "outputs": [
    {
     "name": "stdout",
     "output_type": "stream",
     "text": [
      "24:00:00\n"
     ]
    }
   ],
   "source": [
    "from datetime import datetime\n",
    "\n",
    "s = \"12:00:00 17/12/2003\"\n",
    "t = \"12:00:00 18/12/2003\"\n",
    "\n",
    "format = \"%H:%M:%S %d/%m/%Y\"\n",
    "\n",
    "time_1 = datetime.strptime(s, format)\n",
    "time_2 = datetime.strptime(t, format)\n",
    "\n",
    "dif = int((time_2 - time_1).total_seconds())\n",
    "print(\"{:02d}:{:02d}:{:02d}\".format(dif // 3600, (dif % 3600)\n",
    "                                    // 60, dif % 60))"
   ]
  },
  {
   "cell_type": "code",
   "execution_count": null,
   "metadata": {},
   "outputs": [],
   "source": []
  }
 ],
 "metadata": {
  "kernelspec": {
   "display_name": "Python 3",
   "language": "python",
   "name": "python3"
  },
  "language_info": {
   "codemirror_mode": {
    "name": "ipython",
    "version": 3
   },
   "file_extension": ".py",
   "mimetype": "text/x-python",
   "name": "python",
   "nbconvert_exporter": "python",
   "pygments_lexer": "ipython3",
   "version": "3.11.7"
  },
  "orig_nbformat": 4
 },
 "nbformat": 4,
 "nbformat_minor": 2
}
