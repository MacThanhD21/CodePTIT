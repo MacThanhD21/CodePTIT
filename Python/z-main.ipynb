{
 "cells": [
  {
   "cell_type": "code",
   "execution_count": 3,
   "metadata": {},
   "outputs": [
    {
     "name": "stdout",
     "output_type": "stream",
     "text": [
      "{'28tech', 'set', 'python', 'java'}\n",
      "{1, 2, 3, 'abcd'}\n",
      "<class 'set'>\n"
     ]
    }
   ],
   "source": [
    "s = {\"28tech\", \"python\", \"28tech\", \"java\", \"set\", \"set\"}\n",
    "print(s)\n",
    "t = {1, 2, 3, 1, 2, \"abcd\"}\n",
    "print(t)\n",
    "print(type(s))"
   ]
  },
  {
   "cell_type": "code",
   "execution_count": 8,
   "metadata": {},
   "outputs": [
    {
     "name": "stdout",
     "output_type": "stream",
     "text": [
      "Số ngày giữa 2023-03-08 và 2023-05-01 là: 55 ngày\n"
     ]
    }
   ],
   "source": [
    "from datetime import datetime\n",
    "\n",
    "# Định nghĩa 2 ngày\n",
    "ngay1 = datetime(2023, 3, 8)\n",
    "ngay2 = datetime(2023, 5, 1)\n",
    "\n",
    "# Tính số ngày chênh lệch\n",
    "so_ngay = abs(ngay2 - ngay1).days + 1\n",
    "print(f\"Số ngày giữa {ngay1.strftime('%Y-%m-%d')} và {ngay2.strftime('%Y-%m-%d')} là: {so_ngay} ngày\")\n"
   ]
  },
  {
   "cell_type": "code",
   "execution_count": 1,
   "metadata": {},
   "outputs": [
    {
     "name": "stdout",
     "output_type": "stream",
     "text": [
      "{'28tech', 'python', 23}\n"
     ]
    }
   ],
   "source": [
    "# • Set không thể lưu được những phần tử có thể thay đổi\n",
    "# được giá trị (mutable) ví dụ như list.\n",
    "# • Các object không thể thay đổi như tuple, str, int… thì có thể\n",
    "# làm phần tử của list được vì chúng không thể thay đổi.\n",
    "\n",
    "s = {23, \"python\", \"28tech\"}\n",
    "print(s)\n"
   ]
  },
  {
   "cell_type": "code",
   "execution_count": 7,
   "metadata": {},
   "outputs": [
    {
     "name": "stdout",
     "output_type": "stream",
     "text": [
      "YES\n"
     ]
    }
   ],
   "source": [
    "tmp = 101\n",
    "tmp1 = str(tmp)\n",
    "\n",
    "tmp2 = tmp1[::-1]\n",
    "\n",
    "if tmp2 == tmp1:\n",
    "    print('YES')\n",
    "    \n",
    "else:\n",
    "    print('NO')"
   ]
  },
  {
   "cell_type": "code",
   "execution_count": 3,
   "metadata": {},
   "outputs": [
    {
     "name": "stdout",
     "output_type": "stream",
     "text": [
      "mac van thanh\n"
     ]
    }
   ],
   "source": [
    "s = \"mac van thanh\"\n",
    "\n",
    "tmp = s.split()\n",
    "\n",
    "print(tmp[0], tmp[1], tmp[2])   "
   ]
  },
  {
   "cell_type": "code",
   "execution_count": 7,
   "metadata": {},
   "outputs": [
    {
     "name": "stdout",
     "output_type": "stream",
     "text": [
      "1 4\n"
     ]
    }
   ],
   "source": [
    "a = [1, 2, 3, 4]\n",
    "\n",
    "x = min(a)\n",
    "y = max(a)\n",
    "print(x, y)"
   ]
  },
  {
   "cell_type": "code",
   "execution_count": 8,
   "metadata": {},
   "outputs": [
    {
     "name": "stdout",
     "output_type": "stream",
     "text": [
      "55\n"
     ]
    }
   ],
   "source": [
    "from datetime import datetime\n",
    "\n",
    "# Định nghĩa hai ngày cần tính\n",
    "ngay1 = datetime(2010, 3, 8)\n",
    "ngay2 = datetime(2010, 5, 1)\n",
    "\n",
    "# Tính số ngày giữa hai ngày\n",
    "so_ngay_giua_hai_ngay = (ngay2 - ngay1).days + 1\n",
    "\n",
    "print(so_ngay_giua_hai_ngay)\n"
   ]
  },
  {
   "cell_type": "code",
   "execution_count": 6,
   "metadata": {},
   "outputs": [
    {
     "name": "stdout",
     "output_type": "stream",
     "text": [
      "{1: 'Lan', 2: 'Hoa', 'sv1': 10, 'sv2': 9}\n",
      "{1: 'Lan', 2: 'Hoa', 'sv1': 10, 'sv2': 9}\n",
      "{1: 'Lan', 2: 'Hoa', 'sv1': 10, 'sv2': 9}\n",
      "{1: 'Lan', 2: 'Hoa', 'sv1': 10, 'sv2': 9}\n"
     ]
    }
   ],
   "source": [
    "\n",
    "# First Way\n",
    "\n",
    "dict1 = {1: 'Lan', 2: 'Hoa'}\n",
    "dict2 = {'sv1' : 10, 'sv2' : 9}\n",
    "\n",
    "dict1.update(dict2)  # Merge dict2 into dict1\n",
    "print(dict1)\n",
    "\n",
    "\n",
    "# Second Way\n",
    "dict1 = {'a': 1, 'b': 2}\n",
    "dict2 = {'b': 3, 'c': 4}\n",
    "\n",
    "merged_dict = dict1 | dict2\n",
    "print(merged_dict)\n",
    "\n",
    "\n",
    "# Third Way\n",
    "\n",
    "dict1 = {1: 'Lan', 2: 'Hoa'}\n",
    "dict2 = {'sv1' : 10, 'sv2' : 9}\n",
    "\n",
    "merged_dict = {**dict1, **dict2}\n",
    "print(merged_dict)\n",
    "\n",
    "\n",
    "# Fourth Way\n",
    "\n",
    "def merge_dicts(dict1, dict2):\n",
    "    merged_dict = dict1.copy()  # Create a copy of the first dictionary\n",
    "\n",
    "    for key, value in dict2.items():\n",
    "        merged_dict[key] = value  # Add or update key-value pairs\n",
    "\n",
    "    return merged_dict\n",
    "\n",
    "dict1 = {1: 'Lan', 2: 'Hoa'}\n",
    "dict2 = {'sv1' : 10, 'sv2' : 9}\n",
    "\n",
    "merged_dict = merge_dicts(dict1, dict2)\n",
    "print(merged_dict)\n"
   ]
  },
  {
   "cell_type": "code",
   "execution_count": 13,
   "metadata": {},
   "outputs": [
    {
     "name": "stdout",
     "output_type": "stream",
     "text": [
      "{'id1': {'name': ['Sara']}}\n"
     ]
    }
   ],
   "source": [
    "\n",
    "input_dict = {\n",
    "    'id1': \n",
    "        {'name' : ['Sara']},\n",
    "    'id2':\n",
    "        {'name': ['Sara']}\n",
    "}\n",
    "\n",
    "unique_values = {}  # Create a new dictionary to store unique values\n",
    "\n",
    "for key, value in input_dict.items():\n",
    "    if value not in unique_values.values():\n",
    "        unique_values[key] = value \n",
    "print(unique_values)\n"
   ]
  },
  {
   "cell_type": "code",
   "execution_count": 17,
   "metadata": {},
   "outputs": [
    {
     "name": "stdout",
     "output_type": "stream",
     "text": [
      "{'apple': 3, 'banana': 2, 'cherry': 2, 'date': 1}\n"
     ]
    }
   ],
   "source": [
    "# Danh sách các từ cần đếm tần xuất\n",
    "words = [\"apple\", \"banana\", \"cherry\", \"apple\", \"banana\", \"cherry\", \"apple\", \"date\"]\n",
    "\n",
    "# Tạo một Set từ danh sách ban đầu để đảm bảo mỗi từ chỉ xuất hiện một lần\n",
    "unique_words = set(words)\n",
    "\n",
    "# Tạo một từ điển để lưu trữ tần xuất của các từ\n",
    "word_frequency = {}\n",
    "\n",
    "# Duyệt qua danh sách từ duy nhất và đếm tần xuất của mỗi từ\n",
    "for word in unique_words:\n",
    "    word_frequency[word] = words.count(word)\n",
    "\n",
    "print(word_frequency)"
   ]
  },
  {
   "cell_type": "code",
   "execution_count": 28,
   "metadata": {},
   "outputs": [
    {
     "name": "stdout",
     "output_type": "stream",
     "text": [
      "Không có tiền tố chung nào.\n"
     ]
    }
   ],
   "source": []
  },
  {
   "cell_type": "code",
   "execution_count": 3,
   "metadata": {},
   "outputs": [
    {
     "name": "stdout",
     "output_type": "stream",
     "text": [
      "13\n"
     ]
    }
   ],
   "source": [
    "arr  = [13, 13, 8, 7, 9, 15, 26, 34]\n",
    "arr.sort()\n",
    "n = len(arr)\n",
    "\n",
    "median = arr[n // 2] \n",
    "print(median)"
   ]
  },
  {
   "cell_type": "code",
   "execution_count": 9,
   "metadata": {},
   "outputs": [
    {
     "name": "stdout",
     "output_type": "stream",
     "text": [
      "['', '23445', '', '']\n",
      "3\n"
     ]
    }
   ],
   "source": [
    "s = \"12123445121121\"\n",
    "\n",
    "t = \"121\"\n",
    "\n",
    "ans = s.split(t)\n",
    "print(ans)\n",
    "print(len(ans) - 1)"
   ]
  },
  {
   "cell_type": "code",
   "execution_count": 5,
   "metadata": {},
   "outputs": [
    {
     "name": "stdout",
     "output_type": "stream",
     "text": [
      "YES\n"
     ]
    }
   ],
   "source": [
    "s = input()\n",
    "\n",
    "if s == \"\":\n",
    "    print(\"YES\")\n",
    "else:\n",
    "    print(\"NO\")"
   ]
  },
  {
   "cell_type": "markdown",
   "metadata": {},
   "source": []
  },
  {
   "cell_type": "code",
   "execution_count": 1,
   "metadata": {},
   "outputs": [
    {
     "name": "stdout",
     "output_type": "stream",
     "text": [
      "Key with the maximum value: 5\n"
     ]
    }
   ],
   "source": [
    "s = [1, 2, 3, 2, 3, 4, 5, 4, 5, 5]  # Replace this with your list\n",
    "dic = {}\n",
    "\n",
    "for x in s:\n",
    "    if x in dic:\n",
    "        dic[x] += 1\n",
    "    else:\n",
    "        dic[x] = 1\n",
    "\n",
    "max_key = max(dic, key=lambda k: dic[k])\n",
    "\n",
    "print(\"Key with the maximum value:\", max_key)\n"
   ]
  },
  {
   "cell_type": "code",
   "execution_count": 1,
   "metadata": {},
   "outputs": [
    {
     "name": "stdout",
     "output_type": "stream",
     "text": [
      "Hello, World\n",
      " This is an example text with some numbers 123 and punctuation marks: \n",
      ", \n"
     ]
    }
   ],
   "source": [
    "import re\n",
    "\n",
    "# Chuỗi văn bản đầu vào\n",
    "text = \"Hello, World! This is an example text with some numbers 123 and punctuation marks: ?, ;.\"\n",
    "\n",
    "# Biểu thức chính quy để tìm các từ và ký tự phù hợp\n",
    "regex = r'[\\w\\s,:]+'\n",
    "\n",
    "# Sử dụng re.findall để tìm và trích xuất các từ và ký tự phù hợp\n",
    "result = re.findall(regex, text)\n",
    "\n",
    "# In kết quả\n",
    "for item in result:\n",
    "    print(item)\n"
   ]
  },
  {
   "cell_type": "code",
   "execution_count": 31,
   "metadata": {},
   "outputs": [
    {
     "name": "stdout",
     "output_type": "stream",
     "text": [
      "15\n"
     ]
    }
   ],
   "source": [
    "import json\n",
    "\n",
    "s = \"2634\"\n",
    "a = [int(x) for x in \" \".join(s).split()]\n",
    "print(sum(a))"
   ]
  },
  {
   "cell_type": "code",
   "execution_count": 10,
   "metadata": {},
   "outputs": [
    {
     "name": "stdout",
     "output_type": "stream",
     "text": [
      "4161\n"
     ]
    }
   ],
   "source": []
  }
 ],
 "metadata": {
  "kernelspec": {
   "display_name": "Python 3",
   "language": "python",
   "name": "python3"
  },
  "language_info": {
   "codemirror_mode": {
    "name": "ipython",
    "version": 3
   },
   "file_extension": ".py",
   "mimetype": "text/x-python",
   "name": "python",
   "nbconvert_exporter": "python",
   "pygments_lexer": "ipython3",
   "version": "3.11.7"
  },
  "orig_nbformat": 4
 },
 "nbformat": 4,
 "nbformat_minor": 2
}
