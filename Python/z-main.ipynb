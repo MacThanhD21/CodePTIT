{
 "cells": [
  {
   "cell_type": "code",
   "execution_count": 3,
   "metadata": {},
   "outputs": [
    {
     "name": "stdout",
     "output_type": "stream",
     "text": [
      "{'28tech', 'set', 'python', 'java'}\n",
      "{1, 2, 3, 'abcd'}\n",
      "<class 'set'>\n"
     ]
    }
   ],
   "source": [
    "s = {\"28tech\", \"python\", \"28tech\", \"java\", \"set\", \"set\"}\n",
    "print(s)\n",
    "t = {1, 2, 3, 1, 2, \"abcd\"}\n",
    "print(t)\n",
    "print(type(s))"
   ]
  },
  {
   "cell_type": "code",
   "execution_count": 6,
   "metadata": {},
   "outputs": [
    {
     "name": "stdout",
     "output_type": "stream",
     "text": [
      "Hello nam!\n"
     ]
    }
   ],
   "source": [
    "s = input()\n",
    "\n",
    "print(\"Hello \" + s + \"!\")"
   ]
  },
  {
   "cell_type": "code",
   "execution_count": 1,
   "metadata": {},
   "outputs": [
    {
     "name": "stdout",
     "output_type": "stream",
     "text": [
      "{'28tech', 'python', 23}\n"
     ]
    }
   ],
   "source": [
    "# • Set không thể lưu được những phần tử có thể thay đổi\n",
    "# được giá trị (mutable) ví dụ như list.\n",
    "# • Các object không thể thay đổi như tuple, str, int… thì có thể\n",
    "# làm phần tử của list được vì chúng không thể thay đổi.\n",
    "\n",
    "s = {23, \"python\", \"28tech\"}\n",
    "print(s)\n"
   ]
  },
  {
   "cell_type": "code",
   "execution_count": 7,
   "metadata": {},
   "outputs": [
    {
     "name": "stdout",
     "output_type": "stream",
     "text": [
      "YES\n"
     ]
    }
   ],
   "source": [
    "tmp = 101\n",
    "tmp1 = str(tmp)\n",
    "\n",
    "tmp2 = tmp1[::-1]\n",
    "\n",
    "if tmp2 == tmp1:\n",
    "    print('YES')\n",
    "    \n",
    "else:\n",
    "    print('NO')"
   ]
  },
  {
   "cell_type": "code",
   "execution_count": 3,
   "metadata": {},
   "outputs": [
    {
     "name": "stdout",
     "output_type": "stream",
     "text": [
      "mac van thanh\n"
     ]
    }
   ],
   "source": [
    "s = \"mac van thanh\"\n",
    "\n",
    "tmp = s.split()\n",
    "\n",
    "print(tmp[0], tmp[1], tmp[2])   "
   ]
  },
  {
   "cell_type": "code",
   "execution_count": 7,
   "metadata": {},
   "outputs": [
    {
     "name": "stdout",
     "output_type": "stream",
     "text": [
      "1 4\n"
     ]
    }
   ],
   "source": [
    "a = [1, 2, 3, 4]\n",
    "\n",
    "x = min(a)\n",
    "y = max(a)\n",
    "print(x, y)"
   ]
  },
  {
   "cell_type": "code",
   "execution_count": 1,
   "metadata": {},
   "outputs": [
    {
     "name": "stdout",
     "output_type": "stream",
     "text": [
      "7\n"
     ]
    }
   ],
   "source": [
    "import sys\n",
    "from bisect import bisect_left\n",
    "\n",
    "def count_factors(num):\n",
    "    count = 0\n",
    "    for i in range(1, int(num ** 0.5) + 1):\n",
    "        if num % i == 0:\n",
    "            count += 1\n",
    "            if i != num // i:\n",
    "                count += 1\n",
    "    return count\n",
    "\n",
    "def find_next_semitprime(x):\n",
    "    a = [1]\n",
    "    current_num = 2\n",
    "    while len(a) <= x:\n",
    "        if count_factors(current_num) == 2:\n",
    "            a.append(current_num)\n",
    "        current_num += 1\n",
    "    return a[x - 1]\n",
    "\n",
    "t = int(input())  # Đọc số lượng bộ test\n",
    "for _ in range(t):\n",
    "    x = int(input())  # Đọc số nguyên dương X\n",
    "    result = find_next_semitprime(x)\n",
    "    print(result)\n"
   ]
  },
  {
   "cell_type": "code",
   "execution_count": 6,
   "metadata": {},
   "outputs": [
    {
     "name": "stdout",
     "output_type": "stream",
     "text": [
      "{1: 'Lan', 2: 'Hoa', 'sv1': 10, 'sv2': 9}\n",
      "{1: 'Lan', 2: 'Hoa', 'sv1': 10, 'sv2': 9}\n",
      "{1: 'Lan', 2: 'Hoa', 'sv1': 10, 'sv2': 9}\n",
      "{1: 'Lan', 2: 'Hoa', 'sv1': 10, 'sv2': 9}\n"
     ]
    }
   ],
   "source": [
    "\n",
    "# First Way\n",
    "\n",
    "dict1 = {1: 'Lan', 2: 'Hoa'}\n",
    "dict2 = {'sv1' : 10, 'sv2' : 9}\n",
    "\n",
    "dict1.update(dict2)  # Merge dict2 into dict1\n",
    "print(dict1)\n",
    "\n",
    "\n",
    "# Second Way\n",
    "dict1 = {'a': 1, 'b': 2}\n",
    "dict2 = {'b': 3, 'c': 4}\n",
    "\n",
    "merged_dict = dict1 | dict2\n",
    "print(merged_dict)\n",
    "\n",
    "\n",
    "# Third Way\n",
    "\n",
    "dict1 = {1: 'Lan', 2: 'Hoa'}\n",
    "dict2 = {'sv1' : 10, 'sv2' : 9}\n",
    "\n",
    "merged_dict = {**dict1, **dict2}\n",
    "print(merged_dict)\n",
    "\n",
    "\n",
    "# Fourth Way\n",
    "\n",
    "def merge_dicts(dict1, dict2):\n",
    "    merged_dict = dict1.copy()  # Create a copy of the first dictionary\n",
    "\n",
    "    for key, value in dict2.items():\n",
    "        merged_dict[key] = value  # Add or update key-value pairs\n",
    "\n",
    "    return merged_dict\n",
    "\n",
    "dict1 = {1: 'Lan', 2: 'Hoa'}\n",
    "dict2 = {'sv1' : 10, 'sv2' : 9}\n",
    "\n",
    "merged_dict = merge_dicts(dict1, dict2)\n",
    "print(merged_dict)\n"
   ]
  },
  {
   "cell_type": "code",
   "execution_count": 13,
   "metadata": {},
   "outputs": [
    {
     "name": "stdout",
     "output_type": "stream",
     "text": [
      "{'id1': {'name': ['Sara']}}\n"
     ]
    }
   ],
   "source": [
    "\n",
    "input_dict = {\n",
    "    'id1': \n",
    "        {'name' : ['Sara']},\n",
    "    'id2':\n",
    "        {'name': ['Sara']}\n",
    "}\n",
    "\n",
    "unique_values = {}  # Create a new dictionary to store unique values\n",
    "\n",
    "for key, value in input_dict.items():\n",
    "    if value not in unique_values.values():\n",
    "        unique_values[key] = value \n",
    "print(unique_values)\n"
   ]
  },
  {
   "cell_type": "code",
   "execution_count": 17,
   "metadata": {},
   "outputs": [
    {
     "name": "stdout",
     "output_type": "stream",
     "text": [
      "{'apple': 3, 'banana': 2, 'cherry': 2, 'date': 1}\n"
     ]
    }
   ],
   "source": [
    "# Danh sách các từ cần đếm tần xuất\n",
    "words = [\"apple\", \"banana\", \"cherry\", \"apple\", \"banana\", \"cherry\", \"apple\", \"date\"]\n",
    "\n",
    "# Tạo một Set từ danh sách ban đầu để đảm bảo mỗi từ chỉ xuất hiện một lần\n",
    "unique_words = set(words)\n",
    "\n",
    "# Tạo một từ điển để lưu trữ tần xuất của các từ\n",
    "word_frequency = {}\n",
    "\n",
    "# Duyệt qua danh sách từ duy nhất và đếm tần xuất của mỗi từ\n",
    "for word in unique_words:\n",
    "    word_frequency[word] = words.count(word)\n",
    "\n",
    "print(word_frequency)"
   ]
  },
  {
   "cell_type": "code",
   "execution_count": 28,
   "metadata": {},
   "outputs": [
    {
     "name": "stdout",
     "output_type": "stream",
     "text": [
      "Không có tiền tố chung nào.\n"
     ]
    }
   ],
   "source": [
    "def find_longest_common_prefix(strings):\n",
    "    if not strings:\n",
    "        return \"\"  # Trường hợp danh sách rỗng\n",
    "\n",
    "    # Chuyển danh sách các chuỗi thành set để loại bỏ các bản sao\n",
    "    unique_strings = set(strings)\n",
    "\n",
    "    # Lấy một ví dụ từ danh sách để sử dụng như chuỗi so sánh ban đầu\n",
    "    example_string = list(unique_strings)[0]\n",
    "\n",
    "    longest_common_prefix = \"\"\n",
    "    \n",
    "    for i in range(len(example_string)):\n",
    "        prefix = example_string[:i + 1]  # Tạo tiền tố tại mỗi bước\n",
    "        if all(string.startswith(prefix) for string in unique_strings):\n",
    "            longest_common_prefix = prefix\n",
    "        else:\n",
    "            break  # Khi không còn tiền tố chung, thoát vòng lặp\n",
    "\n",
    "    return longest_common_prefix\n",
    "\n",
    "# Danh sách các chuỗi\n",
    "string_list = [\"apple\", \"appetizer\", \"apprehend\", \"appliance\"]\n",
    "\n",
    "# Tìm tiền tố chung dài nhất\n",
    "result = find_longest_common_prefix(string_list)\n",
    "\n",
    "if result:\n",
    "    print(f\"Tiền tố chung dài nhất: '{result}'\")\n",
    "else:\n",
    "    print(\"Không có tiền tố chung nào.\")\n"
   ]
  },
  {
   "cell_type": "code",
   "execution_count": 3,
   "metadata": {},
   "outputs": [
    {
     "name": "stdout",
     "output_type": "stream",
     "text": [
      "13\n"
     ]
    }
   ],
   "source": [
    "arr  = [13, 13, 8, 7, 9, 15, 26, 34]\n",
    "arr.sort()\n",
    "n = len(arr)\n",
    "\n",
    "median = arr[n // 2] \n",
    "print(median)"
   ]
  },
  {
   "cell_type": "code",
   "execution_count": 9,
   "metadata": {},
   "outputs": [
    {
     "name": "stdout",
     "output_type": "stream",
     "text": [
      "['', '23445', '', '']\n",
      "3\n"
     ]
    }
   ],
   "source": [
    "s = \"12123445121121\"\n",
    "\n",
    "t = \"121\"\n",
    "\n",
    "ans = s.split(t)\n",
    "print(ans)\n",
    "print(len(ans) - 1)"
   ]
  },
  {
   "cell_type": "code",
   "execution_count": 5,
   "metadata": {},
   "outputs": [
    {
     "name": "stdout",
     "output_type": "stream",
     "text": [
      "YES\n"
     ]
    }
   ],
   "source": [
    "s = input()\n",
    "\n",
    "if s == \"\":\n",
    "    print(\"YES\")\n",
    "else:\n",
    "    print(\"NO\")"
   ]
  },
  {
   "cell_type": "markdown",
   "metadata": {},
   "source": []
  },
  {
   "cell_type": "code",
   "execution_count": 1,
   "metadata": {},
   "outputs": [
    {
     "name": "stdout",
     "output_type": "stream",
     "text": [
      "Key with the maximum value: 5\n"
     ]
    }
   ],
   "source": [
    "s = [1, 2, 3, 2, 3, 4, 5, 4, 5, 5]  # Replace this with your list\n",
    "dic = {}\n",
    "\n",
    "for x in s:\n",
    "    if x in dic:\n",
    "        dic[x] += 1\n",
    "    else:\n",
    "        dic[x] = 1\n",
    "\n",
    "max_key = max(dic, key=lambda k: dic[k])\n",
    "\n",
    "print(\"Key with the maximum value:\", max_key)\n"
   ]
  }
 ],
 "metadata": {
  "kernelspec": {
   "display_name": "Python 3",
   "language": "python",
   "name": "python3"
  },
  "language_info": {
   "codemirror_mode": {
    "name": "ipython",
    "version": 3
   },
   "file_extension": ".py",
   "mimetype": "text/x-python",
   "name": "python",
   "nbconvert_exporter": "python",
   "pygments_lexer": "ipython3",
   "version": "3.11.5"
  },
  "orig_nbformat": 4
 },
 "nbformat": 4,
 "nbformat_minor": 2
}
