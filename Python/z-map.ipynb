{
 "cells": [
  {
   "cell_type": "markdown",
   "metadata": {},
   "source": [
    "### Map() là một hàm trong Python có chức năng apply\n",
    "một hàm có sẵn cho mọi phần tử trong 1 iterable\n",
    "(list, tuple, str...)"
   ]
  },
  {
   "cell_type": "markdown",
   "metadata": {},
   "source": [
    "##### map(function, iterable…)"
   ]
  },
  {
   "cell_type": "markdown",
   "metadata": {},
   "source": [
    "##### • Function: Hàm sẽ được sử dụng để apply với các phần tử trong iterable.\n",
    "##### • Iterable: Các iterable ví dụ như list, tuple, str...\n",
    "##### • Giá trị trả về: map trả về một đối tượng thuộc lớp map. Các bạn nên ép\n",
    "sang list để sử dụng"
   ]
  },
  {
   "cell_type": "code",
   "execution_count": 3,
   "metadata": {},
   "outputs": [
    {
     "name": "stdout",
     "output_type": "stream",
     "text": [
      "[109, 97, 99, 32, 118, 97, 110, 32, 116, 104, 97, 110, 104]\n"
     ]
    }
   ],
   "source": [
    "if __name__ == \"__main__\":\n",
    "    s = 'mac van thanh'\n",
    "    b = list(map(ord, s))\n",
    "\n",
    "    print(b)"
   ]
  },
  {
   "cell_type": "code",
   "execution_count": 4,
   "metadata": {},
   "outputs": [
    {
     "name": "stdout",
     "output_type": "stream",
     "text": [
      "[1, 4, 9, 25]\n",
      "[1, 4, 9, 25]\n"
     ]
    }
   ],
   "source": [
    "def square(n):\n",
    "    return n ** 2\n",
    "\n",
    "if __name__ == '__main__':\n",
    "    a = [1, 2, 3, 5]\n",
    "    b = list(map(square, a))\n",
    "    print(b)\n",
    "    c = list(map(lambda x : x ** 2, a))\n",
    "    print(c)\n"
   ]
  },
  {
   "cell_type": "code",
   "execution_count": 1,
   "metadata": {},
   "outputs": [
    {
     "name": "stdout",
     "output_type": "stream",
     "text": [
      "NO\n"
     ]
    }
   ],
   "source": [
    "s = '189571586 '\n",
    "if s[-2] == '8' and s[-1] == '6':\n",
    "        print(\"YES\")\n",
    "else:\n",
    "    print(\"NO\")"
   ]
  },
  {
   "cell_type": "code",
   "execution_count": 4,
   "metadata": {},
   "outputs": [
    {
     "name": "stdout",
     "output_type": "stream",
     "text": [
      "Digits at odd positions: {2}\n",
      "Sum of digits at odd positions: 2\n"
     ]
    }
   ],
   "source": [
    "num_str = \"2324272921262\"\n",
    "\n",
    "# Extract digits at odd positions\n",
    "odd_digits = [int(num_str[i]) for i in range(0, len(num_str), 2)]\n",
    "\n",
    "# Convert the list of odd digits to a set\n",
    "odd_digits_set = set(odd_digits)\n",
    "\n",
    "# Calculate the sum of odd digits\n",
    "sum_odd_digits = sum(odd_digits_set)\n",
    "\n",
    "print(\"Digits at odd positions:\", odd_digits_set)\n",
    "print(\"Sum of digits at odd positions:\", sum_odd_digits)"
   ]
  },
  {
   "cell_type": "code",
   "execution_count": 6,
   "metadata": {},
   "outputs": [
    {
     "name": "stdout",
     "output_type": "stream",
     "text": [
      "Không phải tất cả các chữ số ở vị trí chẵn đều là số chẵn.\n"
     ]
    }
   ],
   "source": [
    "s = \"2121212121212121\"\n",
    "\n",
    "# Chuyển chuỗi thành danh sách các chữ số\n",
    "digits = [int(char) for char in s]\n",
    "\n",
    "# Kiểm tra tất cả các chữ số ở vị trí chẵn có phải là số chẵn\n",
    "are_even = all(num % 2 == 0 for idx, num in enumerate(digits) if idx % 2 == 0)\n",
    "\n",
    "if are_even:\n",
    "    print(\"Tất cả các chữ số ở vị trí chẵn là số chẵn.\")\n",
    "else:\n",
    "    print(\"Không phải tất cả các chữ số ở vị trí chẵn đều là số chẵn.\")\n"
   ]
  },
  {
   "cell_type": "code",
   "execution_count": 2,
   "metadata": {},
   "outputs": [
    {
     "name": "stdout",
     "output_type": "stream",
     "text": [
      "45.46\n"
     ]
    }
   ],
   "source": [
    "print(\"{:.2f}\".format(45.456365))"
   ]
  },
  {
   "cell_type": "code",
   "execution_count": 15,
   "metadata": {},
   "outputs": [
    {
     "name": "stdout",
     "output_type": "stream",
     "text": [
      "6AABCCDEW\n"
     ]
    }
   ],
   "source": [
    "s = 'ACCBA10D2EW30'\n",
    "t = sorted(s)\n",
    "s = str(sum([int(x) for x in s if x >= '0' and x <= '9']))\n",
    "\n",
    "r = [str(x) for x in t if x < '0' or x > '9']\n",
    "# print(r)\n",
    "r = ''.join(r) \n",
    "s += str(r)\n",
    "\n",
    "print(s)"
   ]
  },
  {
   "cell_type": "code",
   "execution_count": 22,
   "metadata": {},
   "outputs": [
    {
     "ename": "AttributeError",
     "evalue": "'tuple' object has no attribute 'append'",
     "output_type": "error",
     "traceback": [
      "\u001b[1;31m---------------------------------------------------------------------------\u001b[0m",
      "\u001b[1;31mAttributeError\u001b[0m                            Traceback (most recent call last)",
      "Cell \u001b[1;32mIn[22], line 4\u001b[0m\n\u001b[0;32m      1\u001b[0m a \u001b[39m=\u001b[39m []\n\u001b[0;32m      3\u001b[0m a \u001b[39m=\u001b[39m (\u001b[39m1\u001b[39m, \u001b[39m4\u001b[39m)\n\u001b[1;32m----> 4\u001b[0m a\u001b[39m.\u001b[39;49mappend((\u001b[39m1\u001b[39m, \u001b[39m5\u001b[39m))\n\u001b[0;32m      5\u001b[0m a\u001b[39m.\u001b[39mappend((\u001b[39m4\u001b[39m, \u001b[39m6\u001b[39m))\n\u001b[0;32m      6\u001b[0m a\u001b[39m.\u001b[39mappend((\u001b[39m2\u001b[39m, \u001b[39m7\u001b[39m))\n",
      "\u001b[1;31mAttributeError\u001b[0m: 'tuple' object has no attribute 'append'"
     ]
    }
   ],
   "source": [
    "a = []\n",
    "\n",
    "a = (1, 4)\n",
    "a.append((1, 5))\n",
    "a.append((4, 6))\n",
    "a.append((2, 7))\n",
    "a.append((8, 9))\n",
    "print(type(s))\n",
    "\n",
    "print(*a)"
   ]
  }
 ],
 "metadata": {
  "kernelspec": {
   "display_name": "Python 3",
   "language": "python",
   "name": "python3"
  },
  "language_info": {
   "codemirror_mode": {
    "name": "ipython",
    "version": 3
   },
   "file_extension": ".py",
   "mimetype": "text/x-python",
   "name": "python",
   "nbconvert_exporter": "python",
   "pygments_lexer": "ipython3",
   "version": "3.11.5"
  },
  "orig_nbformat": 4
 },
 "nbformat": 4,
 "nbformat_minor": 2
}
